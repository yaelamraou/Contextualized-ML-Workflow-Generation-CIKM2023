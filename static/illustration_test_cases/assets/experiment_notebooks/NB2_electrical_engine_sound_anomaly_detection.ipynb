{
 "cells": [
  {
   "cell_type": "code",
   "execution_count": 11,
   "id": "4557a6b9",
   "metadata": {
    "tags": []
   },
   "outputs": [],
   "source": [
    "import os \n",
    "import time\n",
    "import pandas as pd\n",
    "\n",
    "\n",
    "import keras \n",
    "import tensorflow as tf\n",
    "from tensorflow.keras import Sequential\n",
    "from tensorflow.keras.layers import LSTM\n",
    "from tensorflow.keras.layers import Dense\n",
    "from tensorflow.keras.layers import BatchNormalization\n",
    "from tensorflow.keras.layers import TimeDistributed\n",
    "from tensorflow.keras.models import Model\n",
    "from tensorflow.keras.layers import Conv2D\n",
    "from tensorflow.keras.layers import LeakyReLU\n",
    "from tensorflow.keras.layers import Activation\n",
    "from tensorflow.keras.layers import Flatten\n",
    "from tensorflow.keras.layers import Reshape\n",
    "from tensorflow.keras.layers import Input\n",
    "\n",
    "from keras import layers\n",
    "from keras.layers import Conv2DTranspose\n",
    "from tensorflow.keras import backend as K\n",
    "import numpy as np\n",
    "import librosa\n",
    "import matplotlib.pyplot as plt\n",
    "import librosa.display\n",
    "\n",
    "from sklearn.preprocessing import MinMaxScaler\n",
    "from sklearn.metrics import f1_score\n"
   ]
  },
  {
   "cell_type": "markdown",
   "id": "0b2c0126",
   "metadata": {
    "tags": []
   },
   "source": [
    "# Detection semi-supérvisé des anomalies des moteurs éléctriques"
   ]
  },
  {
   "cell_type": "markdown",
   "id": "2f44429a",
   "metadata": {},
   "source": [
    "## Import des données"
   ]
  },
  {
   "cell_type": "code",
   "execution_count": null,
   "id": "ca188600",
   "metadata": {
    "tags": []
   },
   "outputs": [],
   "source": []
  },
  {
   "cell_type": "code",
   "execution_count": 72,
   "id": "ac8a06b3",
   "metadata": {
    "tags": []
   },
   "outputs": [],
   "source": [
    "# train_data_2[['value','Class']].plot()"
   ]
  },
  {
   "cell_type": "markdown",
   "id": "5689dae5",
   "metadata": {},
   "source": [
    "## Creation de modèle ( CNN AE ) "
   ]
  },
  {
   "cell_type": "code",
   "execution_count": 33,
   "id": "980a0884",
   "metadata": {
    "tags": []
   },
   "outputs": [],
   "source": [
    "class ConvAutoencoder:\n",
    "    @staticmethod\n",
    "    def build(width, height, depth, filters=(32, 64), latentDim=50):\n",
    "        # initialize the input shape to be \"channels last\" along with\n",
    "        # the channels dimension itself\n",
    "        # channels dimension itself\n",
    "        inputShape = (height, width, depth)\n",
    "        chanDim = -1\n",
    "        # define the input to the encoder\n",
    "        inputs = Input(shape=inputShape)\n",
    "        x = inputs\n",
    "        # loop over the number of filters\n",
    "        for f in filters:\n",
    "        # apply a CONV => RELU => BN operation\n",
    "            x = Conv2D(f, (3, 3), strides=2, padding=\"same\")(x)\n",
    "            x = LeakyReLU(alpha=0.2)(x)\n",
    "            x = BatchNormalization(axis=chanDim)(x)\n",
    "        # flatten the network and then construct our latent vector\n",
    "        volumeSize = K.int_shape(x)\n",
    "        x = Flatten()(x)\n",
    "        latent = Dense(latentDim)(x)\n",
    "        # build the encoder model\n",
    "        encoder = Model(inputs, latent, name=\"encoder\")\n",
    "        # start building the decoder model which will accept the\n",
    "        # output of the encoder as its inputs\n",
    "        latentInputs = Input(shape=(latentDim,))\n",
    "        x = Dense(np.prod(volumeSize[1:]))(latentInputs)\n",
    "        x = Reshape((volumeSize[1], volumeSize[2], volumeSize[3]))(x)\n",
    "        # loop over our number of filters again, but this time in\n",
    "        # reverse order\n",
    "        for f in filters[::-1]:\n",
    "            # apply a CONV_TRANSPOSE => RELU => BN operation\n",
    "            x = Conv2DTranspose(f, (3, 3), strides=2,\n",
    "                padding=\"same\")(x)\n",
    "            x = LeakyReLU(alpha=0.2)(x)\n",
    "            x = BatchNormalization(axis=chanDim)(x)\n",
    "        # apply a single CONV_TRANSPOSE layer used to recover the\n",
    "        # original depth of the image\n",
    "        x = Conv2DTranspose(depth, (3, 3), padding=\"same\")(x)\n",
    "        outputs = Activation(\"sigmoid\")(x)\n",
    "        # build the decoder model\n",
    "        decoder = Model(latentInputs, outputs, name=\"decoder\")\n",
    "        # our autoencoder is the encoder + decoder\n",
    "        autoencoder = Model(inputs, decoder(encoder(inputs)),\n",
    "        name=\"autoencoder\")\n",
    "        optimizer = tf.keras.optimizers.Adam(learning_rate=0.01)\n",
    "        autoencoder.compile(loss=\"mse\", optimizer=optimizer)\n",
    "        return autoencoder"
   ]
  },
  {
   "cell_type": "markdown",
   "id": "ed733201",
   "metadata": {},
   "source": [
    "## Preparation des données"
   ]
  },
  {
   "cell_type": "code",
   "execution_count": 22,
   "id": "deda1c5f-9081-4472-99ca-eb46fb6025ee",
   "metadata": {
    "tags": []
   },
   "outputs": [
    {
     "data": {
      "text/plain": [
       "'pure_1'"
      ]
     },
     "execution_count": 22,
     "metadata": {},
     "output_type": "execute_result"
    }
   ],
   "source": []
  },
  {
   "cell_type": "code",
   "execution_count": 23,
   "id": "3740c134",
   "metadata": {
    "tags": []
   },
   "outputs": [],
   "source": [
    "def build_spectrograms(input_folder,saving_folder):\n",
    "    files = librosa.util.find_files(input_folder, ext=['wav']) \n",
    "    files = np.asarray(files)\n",
    "    for y in files:  \n",
    "        data = librosa.load(y, sr = 16000,mono = True)   \n",
    "        data = data[0]     \n",
    "        S_left = librosa.stft(data, center=True)\n",
    "        fig, ax = plt.subplots()\n",
    "        img = librosa.display.specshow(librosa.amplitude_to_db(S_left,\n",
    "                                                               ref=np.max),\n",
    "                                       y_axis='log', x_axis='time', ax=ax)\n",
    "        ax.set_title('Power spectrogram')\n",
    "        fig.colorbar(img, ax=ax, format=\"%+2.0f dB\")\n",
    "        file_name = y.split('/')[-1].split('.')[0]\n",
    "        plt.savefig(f\"{saving_folder}/{file_name}.png\")\n",
    "   "
   ]
  },
  {
   "cell_type": "code",
   "execution_count": 27,
   "id": "1db7d23b-46c2-4072-a509-46d4fd22967c",
   "metadata": {
    "tags": []
   },
   "outputs": [],
   "source": [
    "# load and transform sound to spectrogram\n",
    "folders = [(\"./IDMT-ISA-ELECTRIC-ENGINE/train_cut/engine1_good\",\"./Spectrograms/train_cut/engine1_good\"),\n",
    "           (\"./IDMT-ISA-ELECTRIC-ENGINE/train_cut/engine2_broken\",\"./Spectrograms/train_cut/engine2_broken\"),\n",
    "           (\"./IDMT-ISA-ELECTRIC-ENGINE/train_cut/engine3_heavyload\",\"./Spectrograms/train_cut/engine3_heavyload\"),\n",
    "           (\"./IDMT-ISA-ELECTRIC-ENGINE/test_cut/engine1_good\",\"./Spectrograms/test_cut/engine1_good\"),\n",
    "           (\"./IDMT-ISA-ELECTRIC-ENGINE/test_cut/engine2_broken\",\"./Spectrograms/test_cut/engine2_broken\"),\n",
    "           (\"./IDMT-ISA-ELECTRIC-ENGINE/test_cut/engine3_heavyload\",\"./Spectrograms/test_cut/engine3_heavyload\")]\n",
    "\n",
    "for input_folder,saving_folder in folders:\n",
    "    build_spectrograms(input_folder,saving_folder)"
   ]
  },
  {
   "cell_type": "code",
   "execution_count": null,
   "id": "b7f867c4-c273-474f-bcd6-1900a6685117",
   "metadata": {
    "tags": []
   },
   "outputs": [],
   "source": []
  },
  {
   "cell_type": "code",
   "execution_count": null,
   "id": "c5beea90",
   "metadata": {
    "tags": []
   },
   "outputs": [],
   "source": []
  },
  {
   "cell_type": "code",
   "execution_count": 27,
   "id": "72e6a049",
   "metadata": {
    "tags": []
   },
   "outputs": [],
   "source": [
    "# build_spectrograms(train_data_2,100,\"Spectrograms6/Train\",1)\n",
    "# build_spectrograms(test_data_2,100,\"Spectrograms6/Test\",1)\n"
   ]
  },
  {
   "cell_type": "markdown",
   "id": "2bc74013",
   "metadata": {},
   "source": [
    "## Chargement des spectrogrammes"
   ]
  },
  {
   "cell_type": "code",
   "execution_count": 37,
   "id": "71b5e344",
   "metadata": {
    "tags": []
   },
   "outputs": [],
   "source": [
    "#chargement custom des données de spéctrogramme de train\n",
    "train_folder = \"Spectrograms/train_cut/\"\n",
    "train_images = []\n",
    "ano_images = [] \n",
    "class_data = [\"engine1_good\",\"engine2_broken\",\"engine3_heavyload\"]\n",
    "for label in class_data:\n",
    "    for i,img in enumerate(os.listdir(f\"{train_folder}/{label}/\")):\n",
    "        if 'png' in img:\n",
    "            image = tf.keras.utils.load_img(f\"{train_folder}/{label}/{img}\",color_mode = \"grayscale\",target_size=(200, 200))\n",
    "            input_arr = tf.keras.utils.img_to_array(image)/255.0\n",
    "            if label in [\"engine1_good\",\"engine3_heavyload\"]:    \n",
    "                train_images.append(input_arr)\n",
    "            else:\n",
    "                ano_images.append(input_arr)\n"
   ]
  },
  {
   "cell_type": "code",
   "execution_count": 39,
   "id": "b4aa0d82",
   "metadata": {
    "tags": []
   },
   "outputs": [],
   "source": [
    "X_train0_CAE = np.array(train_images) # spectrograms de données normal train\n",
    "X_train1_CAE = np.array(ano_images) # spectrograms de données anormal train"
   ]
  },
  {
   "cell_type": "code",
   "execution_count": 38,
   "id": "dc2f69c8",
   "metadata": {
    "tags": []
   },
   "outputs": [],
   "source": [
    "#chargement custom des données de spéctrogramme de test\n",
    "test_folder = \"Spectrograms/test_cut\"\n",
    "test_images0 = []\n",
    "test_images1 = [] \n",
    "class_data = [\"engine1_good\",\"engine2_broken\",\"engine3_heavyload\"]\n",
    "for label in class_data:\n",
    "    for i,img in enumerate(os.listdir(f\"{test_folder}/{label}/\")):\n",
    "        if 'png' in img:\n",
    "            image = tf.keras.utils.load_img(f\"{test_folder}/{label}/{img}\",color_mode = \"grayscale\",target_size=(200, 200))\n",
    "            input_arr = tf.keras.utils.img_to_array(image)/255.0\n",
    "            if label in [\"engine1_good\",\"engine3_heavyload\"]:    \n",
    "                test_images0.append(input_arr)\n",
    "            else:\n",
    "                test_images1.append(input_arr)"
   ]
  },
  {
   "cell_type": "code",
   "execution_count": 40,
   "id": "7492a01c",
   "metadata": {
    "tags": []
   },
   "outputs": [],
   "source": [
    "X_test0CAE = np.array(test_images0) # spectrograms de données normal test\n",
    "X_test1CAE = np.array(test_images1) # spectrograms de données anormal test"
   ]
  },
  {
   "cell_type": "markdown",
   "id": "fe2ae1aa",
   "metadata": {
    "tags": []
   },
   "source": [
    "## Apprentissage du modèle"
   ]
  },
  {
   "cell_type": "code",
   "execution_count": 35,
   "id": "b9da66dd-bcfe-4de7-9572-4d06af195803",
   "metadata": {
    "tags": []
   },
   "outputs": [],
   "source": [
    "for e in X_test0CAE:\n",
    "    if e.shape != (255, 255, 1):\n",
    "        print('ow')"
   ]
  },
  {
   "cell_type": "code",
   "execution_count": 41,
   "id": "213baef7",
   "metadata": {
    "tags": []
   },
   "outputs": [],
   "source": [
    "CAE = ConvAutoencoder.build(200, 200, 1) # construction de l'architecture"
   ]
  },
  {
   "cell_type": "code",
   "execution_count": 43,
   "id": "eb0b38ed",
   "metadata": {
    "tags": []
   },
   "outputs": [
    {
     "name": "stdout",
     "output_type": "stream",
     "text": [
      "Epoch 1/1000\n",
      "24/24 [==============================] - 8s 323ms/step - loss: 0.0131\n",
      "Epoch 2/1000\n",
      "24/24 [==============================] - 9s 361ms/step - loss: 0.0077\n",
      "Epoch 3/1000\n",
      "24/24 [==============================] - 8s 353ms/step - loss: 0.0058\n",
      "Epoch 4/1000\n",
      "24/24 [==============================] - 9s 362ms/step - loss: 0.0043\n",
      "Epoch 5/1000\n",
      "24/24 [==============================] - 9s 367ms/step - loss: 0.0039\n",
      "Epoch 6/1000\n",
      "24/24 [==============================] - 8s 352ms/step - loss: 0.0042\n",
      "Epoch 7/1000\n",
      "24/24 [==============================] - 8s 346ms/step - loss: 0.0034\n",
      "Epoch 8/1000\n",
      "24/24 [==============================] - 9s 360ms/step - loss: 0.0031\n",
      "Epoch 9/1000\n",
      "24/24 [==============================] - 9s 368ms/step - loss: 0.0027\n",
      "Epoch 10/1000\n",
      "24/24 [==============================] - 11s 460ms/step - loss: 0.0025\n",
      "Epoch 11/1000\n",
      "24/24 [==============================] - 12s 484ms/step - loss: 0.0021\n",
      "Epoch 12/1000\n",
      "24/24 [==============================] - 10s 424ms/step - loss: 0.0020\n",
      "Epoch 13/1000\n",
      "24/24 [==============================] - 9s 384ms/step - loss: 0.0019\n",
      "Epoch 14/1000\n",
      "24/24 [==============================] - 9s 375ms/step - loss: 0.0018\n",
      "Epoch 15/1000\n",
      "24/24 [==============================] - 9s 370ms/step - loss: 0.0018\n",
      "Epoch 16/1000\n",
      "24/24 [==============================] - 9s 379ms/step - loss: 0.0019\n",
      "Epoch 17/1000\n",
      "24/24 [==============================] - 9s 368ms/step - loss: 0.0017\n",
      "Epoch 18/1000\n",
      "24/24 [==============================] - 9s 370ms/step - loss: 0.0021\n",
      "Epoch 19/1000\n",
      "24/24 [==============================] - 9s 373ms/step - loss: 0.0022\n",
      "Epoch 20/1000\n",
      "24/24 [==============================] - 9s 373ms/step - loss: 0.0016\n",
      "Epoch 21/1000\n",
      "24/24 [==============================] - 9s 374ms/step - loss: 0.0017\n",
      "Epoch 22/1000\n",
      "24/24 [==============================] - 9s 371ms/step - loss: 0.0016\n",
      "Epoch 23/1000\n",
      "24/24 [==============================] - 9s 390ms/step - loss: 0.0016\n",
      "Epoch 24/1000\n",
      "24/24 [==============================] - 9s 395ms/step - loss: 0.0017\n",
      "Epoch 25/1000\n",
      "24/24 [==============================] - 9s 391ms/step - loss: 0.0018\n",
      "Epoch 26/1000\n",
      "24/24 [==============================] - 9s 393ms/step - loss: 0.0018\n",
      "Epoch 27/1000\n",
      "24/24 [==============================] - 9s 376ms/step - loss: 0.0015\n",
      "Epoch 28/1000\n",
      "24/24 [==============================] - 9s 384ms/step - loss: 0.0017\n",
      "Epoch 29/1000\n",
      "24/24 [==============================] - 9s 370ms/step - loss: 0.0015\n",
      "Epoch 30/1000\n",
      "24/24 [==============================] - 9s 379ms/step - loss: 0.0014\n",
      "Epoch 31/1000\n",
      "24/24 [==============================] - 9s 378ms/step - loss: 0.0015\n",
      "Epoch 32/1000\n",
      "24/24 [==============================] - 9s 377ms/step - loss: 0.0021\n",
      "Epoch 33/1000\n",
      "24/24 [==============================] - 9s 375ms/step - loss: 0.0017\n",
      "Epoch 34/1000\n",
      "24/24 [==============================] - 9s 385ms/step - loss: 0.0016\n",
      "Epoch 35/1000\n",
      "24/24 [==============================] - 9s 368ms/step - loss: 0.0015\n",
      "Epoch 36/1000\n",
      "24/24 [==============================] - 9s 357ms/step - loss: 0.0015\n",
      "Epoch 37/1000\n",
      "24/24 [==============================] - 9s 367ms/step - loss: 0.0015\n",
      "Epoch 38/1000\n",
      "24/24 [==============================] - 9s 363ms/step - loss: 0.0015\n",
      "Epoch 39/1000\n",
      "24/24 [==============================] - 9s 363ms/step - loss: 0.0014\n",
      "Epoch 40/1000\n",
      "24/24 [==============================] - 9s 363ms/step - loss: 0.0015\n",
      "Epoch 41/1000\n",
      "24/24 [==============================] - 9s 373ms/step - loss: 0.0015\n",
      "Epoch 42/1000\n",
      "24/24 [==============================] - 9s 382ms/step - loss: 0.0014\n",
      "Epoch 43/1000\n",
      "24/24 [==============================] - 9s 358ms/step - loss: 0.0014\n",
      "Epoch 44/1000\n",
      "24/24 [==============================] - 9s 363ms/step - loss: 0.0015\n",
      "Epoch 45/1000\n",
      "24/24 [==============================] - 9s 361ms/step - loss: 0.0015\n",
      "Epoch 46/1000\n",
      "24/24 [==============================] - 9s 359ms/step - loss: 0.0014\n",
      "Epoch 47/1000\n",
      "24/24 [==============================] - 9s 368ms/step - loss: 0.0014\n",
      "Epoch 48/1000\n",
      "24/24 [==============================] - 9s 369ms/step - loss: 0.0016\n",
      "Epoch 49/1000\n",
      "24/24 [==============================] - 9s 375ms/step - loss: 0.0014\n",
      "Epoch 50/1000\n",
      "24/24 [==============================] - 9s 357ms/step - loss: 0.0014\n",
      "Epoch 51/1000\n",
      "24/24 [==============================] - 9s 355ms/step - loss: 0.0014\n",
      "Epoch 52/1000\n",
      "24/24 [==============================] - 9s 364ms/step - loss: 0.0015\n",
      "Epoch 53/1000\n",
      "24/24 [==============================] - 9s 357ms/step - loss: 0.0014\n",
      "Epoch 54/1000\n",
      "24/24 [==============================] - 9s 366ms/step - loss: 0.0014\n",
      "Epoch 55/1000\n",
      "24/24 [==============================] - 9s 362ms/step - loss: 0.0014\n",
      "Epoch 56/1000\n",
      "24/24 [==============================] - 9s 358ms/step - loss: 0.0014\n",
      "Epoch 57/1000\n",
      "24/24 [==============================] - 9s 357ms/step - loss: 0.0014\n",
      "Epoch 58/1000\n",
      "24/24 [==============================] - 9s 358ms/step - loss: 0.0015\n",
      "Epoch 59/1000\n",
      "24/24 [==============================] - 9s 368ms/step - loss: 0.0013\n",
      "Epoch 60/1000\n",
      "24/24 [==============================] - 9s 372ms/step - loss: 0.0013\n",
      "Epoch 61/1000\n",
      "24/24 [==============================] - 9s 359ms/step - loss: 0.0013\n",
      "Epoch 62/1000\n",
      "24/24 [==============================] - 9s 357ms/step - loss: 0.0013\n",
      "Epoch 63/1000\n",
      "24/24 [==============================] - 9s 370ms/step - loss: 0.0013\n",
      "Epoch 64/1000\n",
      "24/24 [==============================] - 9s 374ms/step - loss: 0.0013\n",
      "Epoch 65/1000\n",
      "24/24 [==============================] - 9s 372ms/step - loss: 0.0013\n",
      "Epoch 66/1000\n",
      "24/24 [==============================] - 9s 375ms/step - loss: 0.0013\n",
      "Epoch 67/1000\n",
      "24/24 [==============================] - 9s 369ms/step - loss: 0.0013\n",
      "Epoch 68/1000\n",
      "24/24 [==============================] - 9s 374ms/step - loss: 0.0013\n",
      "Epoch 69/1000\n",
      "24/24 [==============================] - 9s 363ms/step - loss: 0.0013\n",
      "Epoch 70/1000\n",
      "24/24 [==============================] - 9s 381ms/step - loss: 0.0013\n",
      "Epoch 71/1000\n",
      "24/24 [==============================] - 9s 381ms/step - loss: 0.0013\n",
      "Epoch 72/1000\n",
      "24/24 [==============================] - 9s 371ms/step - loss: 0.0013\n",
      "Epoch 73/1000\n",
      "24/24 [==============================] - 9s 364ms/step - loss: 0.0013\n",
      "Epoch 74/1000\n",
      "24/24 [==============================] - 9s 367ms/step - loss: 0.0013\n",
      "Epoch 75/1000\n",
      "24/24 [==============================] - 9s 368ms/step - loss: 0.0013\n",
      "Epoch 76/1000\n",
      "24/24 [==============================] - 9s 380ms/step - loss: 0.0013\n",
      "Epoch 77/1000\n",
      "24/24 [==============================] - 9s 375ms/step - loss: 0.0013\n",
      "Epoch 78/1000\n",
      "24/24 [==============================] - 9s 384ms/step - loss: 0.0013\n",
      "Epoch 79/1000\n",
      "24/24 [==============================] - 9s 376ms/step - loss: 0.0012\n",
      "Epoch 80/1000\n",
      "24/24 [==============================] - 9s 376ms/step - loss: 0.0012\n",
      "Epoch 81/1000\n",
      "24/24 [==============================] - 9s 371ms/step - loss: 0.0012\n",
      "Epoch 82/1000\n",
      "24/24 [==============================] - 9s 382ms/step - loss: 0.0012\n",
      "Epoch 83/1000\n",
      "24/24 [==============================] - 9s 387ms/step - loss: 0.0012\n",
      "Epoch 84/1000\n",
      "24/24 [==============================] - 9s 377ms/step - loss: 0.0012\n",
      "Epoch 85/1000\n",
      "24/24 [==============================] - 9s 366ms/step - loss: 0.0012\n",
      "Epoch 86/1000\n",
      "24/24 [==============================] - 9s 373ms/step - loss: 0.0012\n",
      "Epoch 87/1000\n",
      "24/24 [==============================] - 9s 370ms/step - loss: 0.0012\n",
      "Epoch 88/1000\n",
      "24/24 [==============================] - 9s 379ms/step - loss: 0.0012\n",
      "Epoch 89/1000\n",
      "24/24 [==============================] - 9s 369ms/step - loss: 0.0012\n",
      "Epoch 90/1000\n",
      "24/24 [==============================] - 9s 371ms/step - loss: 0.0012\n",
      "Epoch 91/1000\n",
      "24/24 [==============================] - 9s 374ms/step - loss: 0.0012\n",
      "Epoch 92/1000\n",
      "24/24 [==============================] - 9s 390ms/step - loss: 0.0012\n",
      "Epoch 93/1000\n",
      "24/24 [==============================] - 9s 376ms/step - loss: 0.0013\n",
      "Epoch 94/1000\n",
      "24/24 [==============================] - 9s 380ms/step - loss: 0.0012\n",
      "Epoch 95/1000\n",
      "24/24 [==============================] - 9s 381ms/step - loss: 0.0011\n",
      "Epoch 96/1000\n",
      "24/24 [==============================] - 9s 371ms/step - loss: 0.0011\n",
      "Epoch 97/1000\n",
      "24/24 [==============================] - 9s 375ms/step - loss: 0.0011\n",
      "Epoch 98/1000\n",
      "24/24 [==============================] - 9s 382ms/step - loss: 0.0011\n",
      "Epoch 99/1000\n",
      "24/24 [==============================] - 9s 377ms/step - loss: 0.0011\n",
      "Epoch 100/1000\n",
      "24/24 [==============================] - 9s 379ms/step - loss: 0.0011\n",
      "Epoch 101/1000\n",
      "24/24 [==============================] - 9s 385ms/step - loss: 0.0011\n",
      "Epoch 102/1000\n",
      "24/24 [==============================] - 9s 379ms/step - loss: 0.0011\n",
      "Epoch 103/1000\n",
      "24/24 [==============================] - 9s 381ms/step - loss: 0.0011\n",
      "Epoch 104/1000\n",
      "24/24 [==============================] - 9s 376ms/step - loss: 0.0011\n",
      "Epoch 105/1000\n",
      "24/24 [==============================] - 9s 377ms/step - loss: 0.0010\n",
      "Epoch 106/1000\n",
      "24/24 [==============================] - 9s 374ms/step - loss: 0.0010\n",
      "Epoch 107/1000\n",
      "24/24 [==============================] - 9s 375ms/step - loss: 0.0010\n",
      "Epoch 108/1000\n",
      "24/24 [==============================] - 9s 384ms/step - loss: 0.0010\n",
      "Epoch 109/1000\n",
      "24/24 [==============================] - 9s 381ms/step - loss: 0.0010\n",
      "Epoch 110/1000\n",
      "24/24 [==============================] - 9s 382ms/step - loss: 0.0010\n",
      "Epoch 111/1000\n",
      "24/24 [==============================] - 9s 372ms/step - loss: 0.0010\n",
      "Epoch 112/1000\n",
      "24/24 [==============================] - 9s 380ms/step - loss: 0.0010\n",
      "Epoch 113/1000\n",
      "24/24 [==============================] - 9s 376ms/step - loss: 0.0010\n",
      "Epoch 114/1000\n",
      "24/24 [==============================] - 9s 375ms/step - loss: 0.0010\n",
      "Epoch 115/1000\n",
      "24/24 [==============================] - 9s 373ms/step - loss: 0.0010\n",
      "Epoch 116/1000\n",
      "24/24 [==============================] - 9s 380ms/step - loss: 0.0010\n",
      "Epoch 117/1000\n",
      "24/24 [==============================] - 9s 376ms/step - loss: 0.0010\n",
      "Epoch 118/1000\n",
      "24/24 [==============================] - 9s 381ms/step - loss: 0.0010\n",
      "Epoch 119/1000\n",
      "24/24 [==============================] - 9s 383ms/step - loss: 0.0010\n",
      "Epoch 120/1000\n",
      "24/24 [==============================] - 9s 369ms/step - loss: 0.0010\n",
      "Epoch 121/1000\n",
      "24/24 [==============================] - 9s 373ms/step - loss: 0.0010\n",
      "Epoch 122/1000\n",
      "24/24 [==============================] - 9s 380ms/step - loss: 0.0010\n",
      "Epoch 123/1000\n",
      "24/24 [==============================] - 9s 371ms/step - loss: 0.0010\n",
      "Epoch 124/1000\n",
      "24/24 [==============================] - 9s 369ms/step - loss: 0.0010\n",
      "Epoch 125/1000\n",
      "24/24 [==============================] - 9s 369ms/step - loss: 0.0010\n",
      "Epoch 126/1000\n",
      "24/24 [==============================] - 9s 379ms/step - loss: 0.0010\n",
      "Epoch 127/1000\n",
      "24/24 [==============================] - 9s 377ms/step - loss: 9.9678e-04\n",
      "Epoch 128/1000\n",
      "24/24 [==============================] - 9s 386ms/step - loss: 0.0010\n",
      "Epoch 129/1000\n",
      "24/24 [==============================] - 9s 369ms/step - loss: 0.0010\n",
      "Epoch 130/1000\n",
      "24/24 [==============================] - 9s 380ms/step - loss: 0.0010\n",
      "Epoch 131/1000\n",
      "24/24 [==============================] - 9s 370ms/step - loss: 0.0010\n",
      "Epoch 132/1000\n",
      "24/24 [==============================] - 9s 375ms/step - loss: 0.0011\n",
      "Epoch 133/1000\n",
      "24/24 [==============================] - 9s 382ms/step - loss: 0.0011\n",
      "Epoch 134/1000\n",
      "24/24 [==============================] - 9s 380ms/step - loss: 0.0010\n",
      "Epoch 135/1000\n",
      "24/24 [==============================] - 9s 382ms/step - loss: 0.0010\n",
      "Epoch 136/1000\n",
      "24/24 [==============================] - 9s 377ms/step - loss: 9.9469e-04\n",
      "Epoch 137/1000\n",
      "24/24 [==============================] - 9s 374ms/step - loss: 0.0010\n",
      "Epoch 138/1000\n",
      "24/24 [==============================] - 9s 371ms/step - loss: 9.9251e-04\n",
      "Epoch 139/1000\n",
      "24/24 [==============================] - 9s 374ms/step - loss: 9.8792e-04\n",
      "Epoch 140/1000\n",
      "24/24 [==============================] - 9s 378ms/step - loss: 9.8603e-04\n",
      "Epoch 141/1000\n",
      "24/24 [==============================] - 9s 377ms/step - loss: 9.8846e-04\n",
      "Epoch 142/1000\n",
      "24/24 [==============================] - 9s 383ms/step - loss: 9.9746e-04\n",
      "Epoch 143/1000\n",
      "24/24 [==============================] - 9s 371ms/step - loss: 9.9027e-04\n",
      "Epoch 144/1000\n",
      "24/24 [==============================] - 9s 369ms/step - loss: 9.8661e-04\n",
      "Epoch 145/1000\n",
      "24/24 [==============================] - 9s 386ms/step - loss: 9.9027e-04\n",
      "Epoch 146/1000\n",
      "24/24 [==============================] - 9s 379ms/step - loss: 9.8314e-04\n",
      "Epoch 147/1000\n",
      "24/24 [==============================] - 9s 386ms/step - loss: 9.7648e-04\n",
      "Epoch 148/1000\n",
      "24/24 [==============================] - 9s 372ms/step - loss: 9.7894e-04\n",
      "Epoch 149/1000\n",
      "24/24 [==============================] - 9s 373ms/step - loss: 9.7712e-04\n",
      "Epoch 150/1000\n",
      "24/24 [==============================] - 9s 379ms/step - loss: 9.7400e-04\n",
      "Epoch 151/1000\n",
      "24/24 [==============================] - 9s 375ms/step - loss: 9.6768e-04\n",
      "Epoch 152/1000\n",
      "24/24 [==============================] - 9s 382ms/step - loss: 9.6948e-04\n",
      "Epoch 153/1000\n",
      "24/24 [==============================] - 9s 388ms/step - loss: 9.6710e-04\n",
      "Epoch 154/1000\n",
      "24/24 [==============================] - 9s 377ms/step - loss: 0.0010\n",
      "Epoch 155/1000\n",
      "24/24 [==============================] - 9s 377ms/step - loss: 9.8560e-04\n",
      "Epoch 156/1000\n",
      "24/24 [==============================] - 9s 378ms/step - loss: 9.7535e-04\n",
      "Epoch 157/1000\n",
      "24/24 [==============================] - 9s 384ms/step - loss: 9.6720e-04\n",
      "Epoch 158/1000\n",
      "24/24 [==============================] - 9s 381ms/step - loss: 0.0010\n",
      "Epoch 159/1000\n",
      "24/24 [==============================] - 9s 372ms/step - loss: 0.0012\n",
      "Epoch 160/1000\n",
      "24/24 [==============================] - 9s 391ms/step - loss: 0.0010\n",
      "Epoch 161/1000\n",
      "24/24 [==============================] - 9s 382ms/step - loss: 9.9358e-04\n",
      "Epoch 162/1000\n",
      "24/24 [==============================] - 9s 386ms/step - loss: 9.7410e-04\n",
      "Epoch 163/1000\n",
      "24/24 [==============================] - 9s 384ms/step - loss: 9.6843e-04\n",
      "model trained in 24.478229506810507 minutes\n"
     ]
    }
   ],
   "source": [
    "start = time.time()\n",
    "callback = tf.keras.callbacks.EarlyStopping(monitor='loss', patience=10)\n",
    "CAE.fit(X_train0_CAE,X_train0_CAE, epochs=1000,batch_size = 10, verbose = True, callbacks= [callback])\n",
    "print(f\"model trained in {(time.time()-start)/60} minutes\")\n"
   ]
  },
  {
   "cell_type": "markdown",
   "id": "d2089159",
   "metadata": {
    "tags": []
   },
   "source": [
    "## Prediction"
   ]
  },
  {
   "cell_type": "code",
   "execution_count": 44,
   "id": "bb9681a9",
   "metadata": {
    "tags": []
   },
   "outputs": [],
   "source": [
    "predictions0CAE = CAE.predict(X_train0_CAE) # normal data predictions\n",
    "predictions1CAE = CAE.predict(X_train1_CAE) # anomalies predictions"
   ]
  },
  {
   "cell_type": "code",
   "execution_count": 48,
   "id": "363cc625",
   "metadata": {
    "tags": []
   },
   "outputs": [],
   "source": [
    "r_e_CAE = np.sum(np.sum((X_train0_CAE-predictions0CAE) ** 2, axis=1),axis = 1) # computing reconstruction error of normal train data \n",
    "r_e_anos_CAE = np.sum(np.sum((X_train1_CAE-predictions1CAE) ** 2, axis=1),axis = 1) # computing reconstruction error of abnormal train data \n",
    "threshold_t_CAE = np.quantile(r_e_CAE,0.9) # setting reconstruction error threshold"
   ]
  },
  {
   "cell_type": "code",
   "execution_count": null,
   "id": "c4a48681",
   "metadata": {
    "tags": []
   },
   "outputs": [],
   "source": []
  },
  {
   "cell_type": "code",
   "execution_count": 49,
   "id": "4fff08b0",
   "metadata": {
    "tags": []
   },
   "outputs": [],
   "source": [
    "prediction_test0CAE = CAE.predict(X_test0CAE)\n",
    "prediction_test1CAE = CAE.predict(X_test1CAE)"
   ]
  },
  {
   "cell_type": "code",
   "execution_count": 50,
   "id": "227ed88a",
   "metadata": {
    "tags": []
   },
   "outputs": [],
   "source": [
    "r_e_test0CAE = np.sum(np.sum((X_test0CAE-prediction_test0CAE) ** 2, axis=1),axis=1)\n",
    "r_e_test1CAE = np.sum(np.sum((X_test1CAE-prediction_test1CAE) ** 2, axis=1),axis=1)"
   ]
  },
  {
   "cell_type": "code",
   "execution_count": 51,
   "id": "16b5ee96",
   "metadata": {
    "tags": []
   },
   "outputs": [],
   "source": [
    "decision0CAE = -r_e_test0CAE + threshold_t_CAE\n",
    "decision1CAE = -r_e_test1CAE + threshold_t_CAE\n",
    "df0CAE = pd.DataFrame(decision0CAE, columns=['v'])\n",
    "df1CAE = pd.DataFrame(decision1CAE, columns=['v'])"
   ]
  },
  {
   "cell_type": "code",
   "execution_count": 52,
   "id": "44841250",
   "metadata": {
    "tags": []
   },
   "outputs": [],
   "source": [
    "# computing f1 score of minority class\n",
    "recall = len(df1CAE[df1CAE.v<0])/len(df1CAE)\n",
    "precision = len(df1CAE[df1CAE.v<0])/(len(df1CAE[df1CAE.v<0])+len(df0CAE[df0CAE.v<0]))\n",
    "f1 = 2*precision*recall/(precision+recall)"
   ]
  },
  {
   "cell_type": "code",
   "execution_count": 53,
   "id": "f0244e5e",
   "metadata": {
    "tags": []
   },
   "outputs": [
    {
     "ename": "ZeroDivisionError",
     "evalue": "division by zero",
     "output_type": "error",
     "traceback": [
      "\u001b[0;31m---------------------------------------------------------------------------\u001b[0m",
      "\u001b[0;31mZeroDivisionError\u001b[0m                         Traceback (most recent call last)",
      "\u001b[0;32m/tmp/ipykernel_16627/205215680.py\u001b[0m in \u001b[0;36m<module>\u001b[0;34m\u001b[0m\n\u001b[1;32m      1\u001b[0m \u001b[0;31m# computing f1 score of majority class\u001b[0m\u001b[0;34m\u001b[0m\u001b[0;34m\u001b[0m\u001b[0;34m\u001b[0m\u001b[0m\n\u001b[1;32m      2\u001b[0m \u001b[0mrecall_maj\u001b[0m \u001b[0;34m=\u001b[0m \u001b[0mlen\u001b[0m\u001b[0;34m(\u001b[0m\u001b[0mdf0CAE\u001b[0m\u001b[0;34m[\u001b[0m\u001b[0mdf0CAE\u001b[0m\u001b[0;34m.\u001b[0m\u001b[0mv\u001b[0m\u001b[0;34m>\u001b[0m\u001b[0;36m0\u001b[0m\u001b[0;34m]\u001b[0m\u001b[0;34m)\u001b[0m\u001b[0;34m/\u001b[0m\u001b[0mlen\u001b[0m\u001b[0;34m(\u001b[0m\u001b[0mdf0CAE\u001b[0m\u001b[0;34m)\u001b[0m\u001b[0;34m\u001b[0m\u001b[0;34m\u001b[0m\u001b[0m\n\u001b[0;32m----> 3\u001b[0;31m \u001b[0mprecision_maj\u001b[0m \u001b[0;34m=\u001b[0m \u001b[0mlen\u001b[0m\u001b[0;34m(\u001b[0m\u001b[0mdf0CAE\u001b[0m\u001b[0;34m[\u001b[0m\u001b[0mdf0CAE\u001b[0m\u001b[0;34m.\u001b[0m\u001b[0mv\u001b[0m\u001b[0;34m>\u001b[0m\u001b[0;36m0\u001b[0m\u001b[0;34m]\u001b[0m\u001b[0;34m)\u001b[0m\u001b[0;34m/\u001b[0m\u001b[0;34m(\u001b[0m\u001b[0mlen\u001b[0m\u001b[0;34m(\u001b[0m\u001b[0mdf1CAE\u001b[0m\u001b[0;34m[\u001b[0m\u001b[0mdf1CAE\u001b[0m\u001b[0;34m.\u001b[0m\u001b[0mv\u001b[0m\u001b[0;34m>\u001b[0m\u001b[0;36m0\u001b[0m\u001b[0;34m]\u001b[0m\u001b[0;34m)\u001b[0m\u001b[0;34m+\u001b[0m\u001b[0mlen\u001b[0m\u001b[0;34m(\u001b[0m\u001b[0mdf0CAE\u001b[0m\u001b[0;34m[\u001b[0m\u001b[0mdf0CAE\u001b[0m\u001b[0;34m.\u001b[0m\u001b[0mv\u001b[0m\u001b[0;34m>\u001b[0m\u001b[0;36m0\u001b[0m\u001b[0;34m]\u001b[0m\u001b[0;34m)\u001b[0m\u001b[0;34m)\u001b[0m\u001b[0;34m\u001b[0m\u001b[0;34m\u001b[0m\u001b[0m\n\u001b[0m\u001b[1;32m      4\u001b[0m \u001b[0mf1_maj\u001b[0m \u001b[0;34m=\u001b[0m \u001b[0;36m2\u001b[0m\u001b[0;34m*\u001b[0m\u001b[0mprecision_maj\u001b[0m\u001b[0;34m*\u001b[0m\u001b[0mrecall_maj\u001b[0m\u001b[0;34m/\u001b[0m\u001b[0;34m(\u001b[0m\u001b[0mprecision_maj\u001b[0m\u001b[0;34m+\u001b[0m\u001b[0mrecall_maj\u001b[0m\u001b[0;34m)\u001b[0m\u001b[0;34m\u001b[0m\u001b[0;34m\u001b[0m\u001b[0m\n",
      "\u001b[0;31mZeroDivisionError\u001b[0m: division by zero"
     ]
    }
   ],
   "source": [
    "# computing f1 score of majority class\n",
    "recall_maj = len(df0CAE[df0CAE.v>0])/len(df0CAE)\n",
    "precision_maj = len(df0CAE[df0CAE.v>0])/(len(df1CAE[df1CAE.v>0])+len(df0CAE[df0CAE.v>0]))\n",
    "f1_maj = 2*precision_maj*recall_maj/(precision_maj+recall_maj)"
   ]
  },
  {
   "cell_type": "markdown",
   "id": "a034a3ab",
   "metadata": {
    "tags": []
   },
   "source": [
    "### Test score"
   ]
  },
  {
   "cell_type": "code",
   "execution_count": null,
   "id": "fcebc6ce",
   "metadata": {
    "tags": []
   },
   "outputs": [],
   "source": [
    "print(f\"Test scores:\")\n",
    "print(f\"minority class F1 score {f1}\")\n",
    "print(f\"majority class F1 score {f1_maj}\")\n",
    "print(f\"average F1 score {(f1+f1_maj)/2}\")"
   ]
  }
 ],
 "metadata": {
  "kernelspec": {
   "display_name": "autopytorch",
   "language": "python",
   "name": "autopytorch"
  },
  "language_info": {
   "codemirror_mode": {
    "name": "ipython",
    "version": 3
   },
   "file_extension": ".py",
   "mimetype": "text/x-python",
   "name": "python",
   "nbconvert_exporter": "python",
   "pygments_lexer": "ipython3",
   "version": "3.8.13"
  }
 },
 "nbformat": 4,
 "nbformat_minor": 5
}
