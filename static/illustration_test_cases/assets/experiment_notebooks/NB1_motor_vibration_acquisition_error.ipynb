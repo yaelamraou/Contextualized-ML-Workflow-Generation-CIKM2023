{
 "cells": [
  {
   "cell_type": "code",
   "execution_count": 2,
   "id": "1cd449be-32a0-488e-b916-f66a2f106157",
   "metadata": {
    "tags": []
   },
   "outputs": [],
   "source": [
    "import os \n",
    "import time\n",
    "import pandas as pd\n",
    "\n",
    "\n",
    "import keras \n",
    "import tensorflow as tf\n",
    "from tensorflow.keras import Sequential\n",
    "from tensorflow.keras.layers import LSTM\n",
    "from tensorflow.keras.layers import Dense\n",
    "from tensorflow.keras.layers import BatchNormalization\n",
    "from tensorflow.keras.layers import TimeDistributed\n",
    "from tensorflow.keras.models import Model\n",
    "from tensorflow.keras.layers import Conv2D\n",
    "from tensorflow.keras.layers import LeakyReLU\n",
    "from tensorflow.keras.layers import Activation\n",
    "from tensorflow.keras.layers import Flatten\n",
    "from tensorflow.keras.layers import Reshape\n",
    "from tensorflow.keras.layers import Input\n",
    "from keras import layers\n",
    "\n",
    "from tensorflow.keras import backend as K\n",
    "import numpy as np\n",
    "import librosa\n",
    "import matplotlib.pyplot as plt\n",
    "import librosa.display\n",
    "\n",
    "from sklearn.preprocessing import MinMaxScaler\n",
    "from sklearn.metrics import f1_score"
   ]
  },
  {
   "cell_type": "code",
   "execution_count": 47,
   "id": "ac79001a-8c89-46c9-a57d-024218106ae4",
   "metadata": {
    "tags": []
   },
   "outputs": [],
   "source": [
    "train_data = pd.read_csv('./VF9CP2F3XBA142893.csv', index_col='ts')\n",
    "test_data = pd.read_csv('./VF9BE896727200531.csv', index_col='ts')"
   ]
  },
  {
   "cell_type": "code",
   "execution_count": 6,
   "id": "b3b531eb-a624-4527-86be-59c03bd1d24f",
   "metadata": {
    "tags": []
   },
   "outputs": [
    {
     "data": {
      "text/plain": [
       "<AxesSubplot:xlabel='ts'>"
      ]
     },
     "execution_count": 6,
     "metadata": {},
     "output_type": "execute_result"
    },
    {
     "data": {
      "image/png": "[encoded data removed]",
      "text/plain": [
       "<Figure size 432x288 with 1 Axes>"
      ]
     },
     "metadata": {
      "needs_background": "light"
     },
     "output_type": "display_data"
    }
   ],
   "source": [
    "train_data['sensor_1'].plot()\n",
    "test_data['sensor_1'].plot()"
   ]
  },
  {
   "cell_type": "markdown",
   "id": "e9e85996-ecd2-44a4-8de9-a4f68a269efb",
   "metadata": {},
   "source": [
    "## Creation de modèle (LSTM AutoEncodeur)"
   ]
  },
  {
   "cell_type": "code",
   "execution_count": 7,
   "id": "1a1122e6-a391-4afe-b5a1-61e223a6b205",
   "metadata": {
    "tags": []
   },
   "outputs": [],
   "source": [
    "def LSTMAE(nb_entries, width, loss=\"MSE\"):\n",
    "        \"\"\"\n",
    "        Sets up the architecture that will be used for the autoencoder\n",
    "    \n",
    "            Parameters: \n",
    "        \n",
    "                nb_entries: an integer representing the number of rows of the spectrograms images\n",
    "                width: an integer representing the number of columns of the spectrograms images\n",
    "        \n",
    "            Returns:\n",
    "                model: convolutional autoencoder\n",
    "        \"\"\"\n",
    "        valid_shape = (width, nb_entries)\n",
    "        model = Sequential()\n",
    "        model.add(LSTM(64, activation='relu', input_shape=valid_shape, return_sequences=True))\n",
    "        model.add(Dense(32, activation='relu'))\n",
    "        model.add(Dense(units=10,activation=\"relu\", name=\"latent\"))\n",
    "        model.add(BatchNormalization())\n",
    "        model.add(Dense(32, activation='relu'))\n",
    "        model.add(LSTM(64, activation='sigmoid', return_sequences=True))\n",
    "        model.add(TimeDistributed(Dense(nb_entries)))\n",
    "        optimizer = tf.compat.v1.train.AdamOptimizer(learning_rate=0.01)\n",
    "        model.compile(optimizer=optimizer, loss=loss)\n",
    "        return model"
   ]
  },
  {
   "cell_type": "markdown",
   "id": "c1ce5ccb-0669-45aa-a29b-07974fef37ba",
   "metadata": {},
   "source": [
    "## Formatage et pre-processing de la donnée"
   ]
  },
  {
   "cell_type": "code",
   "execution_count": 8,
   "id": "094ecab8-de28-4da8-a515-4e6759c0b40d",
   "metadata": {
    "tags": []
   },
   "outputs": [],
   "source": [
    "def build_rolling_data(data,window):\n",
    "    rolling_data = np.lib.stride_tricks.as_strided(data, (len(data) - window + 1, window),(data.strides[0], data.strides[0]))\n",
    "    rolling_data = tf.expand_dims(rolling_data,axis=-1)\n",
    "    return rolling_data"
   ]
  },
  {
   "cell_type": "code",
   "execution_count": 48,
   "id": "fbb4ae77-13e3-4b65-ad65-ec4861770ac6",
   "metadata": {
    "tags": []
   },
   "outputs": [],
   "source": [
    "WINDOW_SIZE = 30\n",
    "scaler = MinMaxScaler() # instanciating a scaler \n",
    "# minmax scaler formula X_scaled = X-min(X) / max(X)-min(X)\n",
    "# Scales data between 0 and 1\n",
    "data_train = train_data['sensor_1'].values\n",
    "data_test = test_data['sensor_1'].values\n",
    "scaler.fit(data.reshape(-1,1))\n",
    "normalized_train_data = scaler.transform(data_train.reshape(-1,1))\n",
    "normalized_test_data = scaler.transform(data_test.reshape(-1,1))"
   ]
  },
  {
   "cell_type": "code",
   "execution_count": 12,
   "id": "b0438df6-2cf3-4fa2-9b98-b7b7944ccb4c",
   "metadata": {
    "tags": []
   },
   "outputs": [],
   "source": [
    "# Build LSTM AutoEncoder for unidimentional time series\n",
    "model = LSTMAE(1, WINDOW_SIZE)"
   ]
  },
  {
   "cell_type": "code",
   "execution_count": 13,
   "id": "4ae961c2-6f0c-43b1-9fdd-a568742abc95",
   "metadata": {
    "tags": []
   },
   "outputs": [
    {
     "name": "stdout",
     "output_type": "stream",
     "text": [
      "Epoch 1/20\n",
      "391/391 [==============================] - 14s 31ms/step - loss: 0.0026\n",
      "Epoch 2/20\n",
      "391/391 [==============================] - 12s 31ms/step - loss: 1.8627e-05\n",
      "Epoch 3/20\n",
      "391/391 [==============================] - 12s 31ms/step - loss: 4.0641e-06\n",
      "Epoch 4/20\n",
      "391/391 [==============================] - 18s 47ms/step - loss: 1.4666e-06\n",
      "Epoch 5/20\n",
      "391/391 [==============================] - 13s 34ms/step - loss: 1.3163e-06\n",
      "Epoch 6/20\n",
      "391/391 [==============================] - 15s 39ms/step - loss: 1.3649e-06\n",
      "Epoch 7/20\n",
      "391/391 [==============================] - 17s 42ms/step - loss: 1.7902e-06\n",
      "Epoch 8/20\n",
      "391/391 [==============================] - 14s 35ms/step - loss: 9.4901e-06\n",
      "Epoch 9/20\n",
      "391/391 [==============================] - 17s 42ms/step - loss: 2.0883e-05\n",
      "Epoch 10/20\n",
      "391/391 [==============================] - 14s 36ms/step - loss: 2.5069e-05\n",
      "Epoch 11/20\n",
      "391/391 [==============================] - 14s 36ms/step - loss: 2.4587e-05\n",
      "Epoch 12/20\n",
      "391/391 [==============================] - 16s 41ms/step - loss: 2.0792e-05\n",
      "Epoch 13/20\n",
      "391/391 [==============================] - 14s 35ms/step - loss: 2.0496e-05\n",
      "Epoch 14/20\n",
      "391/391 [==============================] - 18s 46ms/step - loss: 1.8286e-05\n",
      "Epoch 15/20\n",
      "391/391 [==============================] - 18s 45ms/step - loss: 1.7960e-05\n",
      "Epoch 16/20\n",
      "391/391 [==============================] - 14s 35ms/step - loss: 1.5586e-05\n",
      "Epoch 17/20\n",
      "391/391 [==============================] - 17s 44ms/step - loss: 1.5407e-05\n",
      "Epoch 18/20\n",
      "391/391 [==============================] - 14s 37ms/step - loss: 1.3400e-05\n",
      "Epoch 19/20\n",
      "391/391 [==============================] - 15s 39ms/step - loss: 1.2930e-05\n",
      "Epoch 20/20\n",
      "391/391 [==============================] - 16s 41ms/step - loss: 1.1373e-05\n",
      "model trained in 5.048259623845419 minutes\n"
     ]
    }
   ],
   "source": [
    "start = time.time()\n",
    "model.fit(rolling_normalized_data,rolling_normalized_data,epochs= 20, verbose = True, batch_size=128)\n",
    "print(f\"model trained in {(time.time()-start)/60} minutes\")"
   ]
  },
  {
   "cell_type": "markdown",
   "id": "9c0ae0bd-5eee-460c-a7b7-ed915359a61a",
   "metadata": {},
   "source": [
    "## Prediction "
   ]
  },
  {
   "cell_type": "code",
   "execution_count": 24,
   "id": "305d3eb4-52dc-4921-9ec7-572c2f349a3a",
   "metadata": {
    "tags": []
   },
   "outputs": [],
   "source": [
    "def predict_anomalies(model,data, sigma):\n",
    "    rolling_data = build_rolling_data(data,WINDOW_SIZE)\n",
    "    predicted = model.predict(rolling_data)\n",
    "    reconstruction_error = np.mean((rolling_data-predicted)**2, axis =1)\n",
    "    # the threshold is the  average of reconstruction error + 3 std reconstruction error\n",
    "    # The predicted anomalies are the points with a decision inferior to 0 <=> reconstruction error > threshold\n",
    "    decision = -reconstruction_error + np.mean(reconstruction_error)+sigma*np.std(reconstruction_error)\n",
    "    padding = [0]*(len(data)-len(decision)) # creating a padding for the decision list to match size of initial data\n",
    "    return list(decision.flatten()) + padding\n"
   ]
  },
  {
   "cell_type": "code",
   "execution_count": 25,
   "id": "2ea3289a-424b-4f48-864b-33217e1b0ff5",
   "metadata": {
    "tags": []
   },
   "outputs": [],
   "source": []
  },
  {
   "cell_type": "code",
   "execution_count": 53,
   "id": "bbcb2058-24be-4a12-b453-6e68034bc5d5",
   "metadata": {
    "tags": []
   },
   "outputs": [],
   "source": [
    "train_data['predict'] = predict_anomalies(model,Normalized_data,1.5)\n",
    "# the anomalies are the points with an initial predict value inferior to 0\n",
    "train_data['predict'] = train_data['predict'].apply(lambda x : 25 if x < 0 else 0)"
   ]
  },
  {
   "cell_type": "code",
   "execution_count": 54,
   "id": "dc0362d4-6dd2-4485-a386-326c303efb2d",
   "metadata": {
    "tags": []
   },
   "outputs": [
    {
     "data": {
      "text/plain": [
       "<AxesSubplot:xlabel='ts'>"
      ]
     },
     "execution_count": 54,
     "metadata": {},
     "output_type": "execute_result"
    },
    {
     "data": {
      "image/png": "[encoded data removed]",
      "text/plain": [
       "<Figure size 432x288 with 1 Axes>"
      ]
     },
     "metadata": {
      "needs_background": "light"
     },
     "output_type": "display_data"
    }
   ],
   "source": [
    "train_data[['sensor_1','predict']].plot()"
   ]
  },
  {
   "cell_type": "code",
   "execution_count": 51,
   "id": "6673195b-3075-4d50-8c9f-58ef4030a86d",
   "metadata": {
    "tags": []
   },
   "outputs": [],
   "source": [
    "test_data['predict']= predict_anomalies(model,normalized_test_data,1.5)\n",
    "# the anomalies are the points with an initial predict value inferior to 0\n",
    "# make the prediction visible by setting normal predicted values to zero and predicted anomalies to 25 ( for visibility in the visual validation ) \n",
    "test_data['predict'] = test_data['predict'].apply(lambda x : 25 if x < 0 else 0)"
   ]
  },
  {
   "cell_type": "code",
   "execution_count": 52,
   "id": "3bb39543-e8e9-4cd4-bd2b-ab3b7afa39c2",
   "metadata": {
    "tags": []
   },
   "outputs": [
    {
     "data": {
      "text/plain": [
       "<AxesSubplot:xlabel='ts'>"
      ]
     },
     "execution_count": 52,
     "metadata": {},
     "output_type": "execute_result"
    },
    {
     "data": {
      "image/png": "[encoded data removed]",
      "text/plain": [
       "<Figure size 432x288 with 1 Axes>"
      ]
     },
     "metadata": {
      "needs_background": "light"
     },
     "output_type": "display_data"
    }
   ],
   "source": [
    "test_data[['sensor_1','predict']].plot()"
   ]
  }
 ],
 "metadata": {
  "kernelspec": {
   "display_name": "autopytorch",
   "language": "python",
   "name": "autopytorch"
  },
  "language_info": {
   "codemirror_mode": {
    "name": "ipython",
    "version": 3
   },
   "file_extension": ".py",
   "mimetype": "text/x-python",
   "name": "python",
   "nbconvert_exporter": "python",
   "pygments_lexer": "ipython3",
   "version": "3.8.13"
  }
 },
 "nbformat": 4,
 "nbformat_minor": 5
}
